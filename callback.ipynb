{
  "nbformat": 4,
  "nbformat_minor": 0,
  "metadata": {
    "colab": {
      "provenance": [],
      "gpuType": "T4",
      "authorship_tag": "ABX9TyO6kjM9S+wSmqBxvGOadii+",
      "include_colab_link": true
    },
    "kernelspec": {
      "name": "python3",
      "display_name": "Python 3"
    },
    "language_info": {
      "name": "python"
    },
    "accelerator": "GPU"
  },
  "cells": [
    {
      "cell_type": "markdown",
      "metadata": {
        "id": "view-in-github",
        "colab_type": "text"
      },
      "source": [
        "<a href=\"https://colab.research.google.com/github/reza-debug/Machine_Learning_Projects/blob/master/callback.ipynb\" target=\"_parent\"><img src=\"https://colab.research.google.com/assets/colab-badge.svg\" alt=\"Open In Colab\"/></a>"
      ]
    },
    {
      "cell_type": "code",
      "execution_count": 88,
      "metadata": {
        "id": "bcXnV6jU0P6c"
      },
      "outputs": [],
      "source": [
        "import tensorflow as tf\n",
        "from tensorflow import keras\n",
        "import numpy as np\n",
        "import matplotlib.pyplot as plt\n"
      ]
    },
    {
      "cell_type": "code",
      "source": [
        "#data generation\n",
        "x = np.arange(-80,81,0.5)\n",
        "#y=x^2 + 5x + 3\n",
        "y= x**2 + 5*x + 3"
      ],
      "metadata": {
        "id": "GX0VYVIz0WdJ"
      },
      "execution_count": 89,
      "outputs": []
    },
    {
      "cell_type": "code",
      "source": [
        "#train test split\n",
        "from sklearn.model_selection import train_test_split\n",
        "x_train, x_test,y_train, y_test = train_test_split (x,y,test_size=0.2)\n",
        "#20% baraye test"
      ],
      "metadata": {
        "id": "iH50If9B0ccj"
      },
      "execution_count": 90,
      "outputs": []
    },
    {
      "cell_type": "code",
      "source": [
        "#model2\n",
        "model2= keras.Sequential()\n",
        "#laye aval 1vorodi\n",
        "model2.add(keras.layers.Dense(units=256,activation='relu',input_shape=[1]))\n",
        "model2.add(keras.layers.Dense(units=256,activation='relu'))\n",
        "model2.add(keras.layers.Dense(units=256,activation='relu'))\n",
        "model2.add(keras.layers.Dense(units=256,activation='relu'))\n",
        "#laye output niz 1vorodi\n",
        "model2.add(keras.layers.Dense(units=1))"
      ],
      "metadata": {
        "id": "sOEfM5BB0f3J"
      },
      "execution_count": 91,
      "outputs": []
    },
    {
      "cell_type": "code",
      "source": [
        "#moshakhs kardane parametrhaye otimizer va loss va yek metric azafe ham mikham\n",
        "opti = keras.optimizers.RMSprop(learning_rate=0.01)\n",
        "los = keras.losses.MeanSquaredError()\n",
        "metric = tf.metrics.Recall()\n",
        "#compile\n",
        "model2.compile(optimizer=opti,loss=los,metrics=metric)\n"
      ],
      "metadata": {
        "id": "BKaO0OIM0xuJ"
      },
      "execution_count": 92,
      "outputs": []
    },
    {
      "cell_type": "code",
      "source": [
        "#callback\n",
        "early_stop = keras.callbacks.EarlyStopping(monitor='val_loss', patience=10, restore_best_weights=True)"
      ],
      "metadata": {
        "id": "6Ny22wSF2zMn"
      },
      "execution_count": 93,
      "outputs": []
    },
    {
      "cell_type": "code",
      "source": [
        "model2.fit(x_train,y_train,epochs=1000, batch_size=64, callbacks=[early_stop], validation_data=(x_test,y_test))"
      ],
      "metadata": {
        "colab": {
          "base_uri": "https://localhost:8080/"
        },
        "id": "mecqP6an4p2W",
        "outputId": "f9a4cd53-e76b-4077-e871-b7dec3c3d581"
      },
      "execution_count": 94,
      "outputs": [
        {
          "output_type": "stream",
          "name": "stdout",
          "text": [
            "Epoch 1/1000\n",
            "5/5 [==============================] - 2s 86ms/step - loss: 55603696.0000 - recall_6: 0.8444 - val_loss: 3092567.7500 - val_recall_6: 1.0000\n",
            "Epoch 2/1000\n",
            "5/5 [==============================] - 0s 21ms/step - loss: 2257065.0000 - recall_6: 1.0000 - val_loss: 1044209.8750 - val_recall_6: 1.0000\n",
            "Epoch 3/1000\n",
            "5/5 [==============================] - 0s 23ms/step - loss: 796456.0000 - recall_6: 1.0000 - val_loss: 993012.1250 - val_recall_6: 1.0000\n",
            "Epoch 4/1000\n",
            "5/5 [==============================] - 0s 16ms/step - loss: 731105.3125 - recall_6: 1.0000 - val_loss: 548361.6250 - val_recall_6: 1.0000\n",
            "Epoch 5/1000\n",
            "5/5 [==============================] - 0s 15ms/step - loss: 545113.5625 - recall_6: 1.0000 - val_loss: 816336.6250 - val_recall_6: 1.0000\n",
            "Epoch 6/1000\n",
            "5/5 [==============================] - 0s 18ms/step - loss: 646499.6250 - recall_6: 1.0000 - val_loss: 539662.8125 - val_recall_6: 1.0000\n",
            "Epoch 7/1000\n",
            "5/5 [==============================] - 0s 18ms/step - loss: 578454.9375 - recall_6: 1.0000 - val_loss: 806153.1875 - val_recall_6: 1.0000\n",
            "Epoch 8/1000\n",
            "5/5 [==============================] - 0s 17ms/step - loss: 583060.1875 - recall_6: 1.0000 - val_loss: 4752605.0000 - val_recall_6: 1.0000\n",
            "Epoch 9/1000\n",
            "5/5 [==============================] - 0s 19ms/step - loss: 1793131.0000 - recall_6: 1.0000 - val_loss: 531563.0000 - val_recall_6: 1.0000\n",
            "Epoch 10/1000\n",
            "5/5 [==============================] - 0s 21ms/step - loss: 605455.8750 - recall_6: 1.0000 - val_loss: 1054279.7500 - val_recall_6: 1.0000\n",
            "Epoch 11/1000\n",
            "5/5 [==============================] - 0s 18ms/step - loss: 640892.1250 - recall_6: 1.0000 - val_loss: 664814.3125 - val_recall_6: 1.0000\n",
            "Epoch 12/1000\n",
            "5/5 [==============================] - 0s 17ms/step - loss: 845629.3750 - recall_6: 0.9961 - val_loss: 823794.5625 - val_recall_6: 1.0000\n",
            "Epoch 13/1000\n",
            "5/5 [==============================] - 0s 15ms/step - loss: 1183915.7500 - recall_6: 0.9961 - val_loss: 8184548.5000 - val_recall_6: 1.0000\n",
            "Epoch 14/1000\n",
            "5/5 [==============================] - 0s 17ms/step - loss: 3986538.7500 - recall_6: 0.9922 - val_loss: 2151204.7500 - val_recall_6: 1.0000\n",
            "Epoch 15/1000\n",
            "5/5 [==============================] - 0s 17ms/step - loss: 990411.0625 - recall_6: 0.9922 - val_loss: 542358.0000 - val_recall_6: 1.0000\n",
            "Epoch 16/1000\n",
            "5/5 [==============================] - 0s 14ms/step - loss: 501639.4375 - recall_6: 0.9883 - val_loss: 24852050.0000 - val_recall_6: 1.0000\n",
            "Epoch 17/1000\n",
            "5/5 [==============================] - 0s 20ms/step - loss: 11120760.0000 - recall_6: 0.9961 - val_loss: 1875990.8750 - val_recall_6: 1.0000\n",
            "Epoch 18/1000\n",
            "5/5 [==============================] - 0s 18ms/step - loss: 1022513.1875 - recall_6: 1.0000 - val_loss: 1128831.1250 - val_recall_6: 1.0000\n",
            "Epoch 19/1000\n",
            "5/5 [==============================] - 0s 16ms/step - loss: 742208.3125 - recall_6: 1.0000 - val_loss: 848309.1875 - val_recall_6: 1.0000\n"
          ]
        },
        {
          "output_type": "execute_result",
          "data": {
            "text/plain": [
              "<keras.src.callbacks.History at 0x7b39f80c9f60>"
            ]
          },
          "metadata": {},
          "execution_count": 94
        }
      ]
    },
    {
      "cell_type": "code",
      "source": [],
      "metadata": {
        "id": "TA3uuejP5Nl3"
      },
      "execution_count": 94,
      "outputs": []
    }
  ]
}